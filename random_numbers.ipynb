{
 "cells": [
  {
   "cell_type": "code",
   "execution_count": 23,
   "id": "8a38a341",
   "metadata": {},
   "outputs": [],
   "source": [
    "#import the random module \n",
    "#import random\n",
    "\n",
    "# we need numpy to be able to deal with requesting 1500 random numbers, it has random module so dont need to import both \n",
    "import numpy as np\n",
    "\n",
    "#import timeit, to see if while look or numpy method is quicker at generating 1500 random numbers\n",
    "import timeit"
   ]
  },
  {
   "cell_type": "code",
   "execution_count": 24,
   "id": "4dd23d70",
   "metadata": {},
   "outputs": [
    {
     "data": {
      "text/plain": [
       "-9"
      ]
     },
     "execution_count": 24,
     "metadata": {},
     "output_type": "execute_result"
    }
   ],
   "source": [
    "random.randint(-90,90)"
   ]
  },
  {
   "cell_type": "code",
   "execution_count": 25,
   "id": "569527c4",
   "metadata": {},
   "outputs": [
    {
     "data": {
      "text/plain": [
       "0.7335534269246304"
      ]
     },
     "execution_count": 25,
     "metadata": {},
     "output_type": "execute_result"
    }
   ],
   "source": [
    "random.random()"
   ]
  },
  {
   "cell_type": "code",
   "execution_count": 26,
   "id": "3e1313b2",
   "metadata": {},
   "outputs": [
    {
     "data": {
      "text/plain": [
       "5.347622810555413"
      ]
     },
     "execution_count": 26,
     "metadata": {},
     "output_type": "execute_result"
    }
   ],
   "source": [
    "random_number=random.randint(-90,89)+random.random()\n",
    "random_number "
   ]
  },
  {
   "cell_type": "code",
   "execution_count": 37,
   "id": "82790400",
   "metadata": {},
   "outputs": [
    {
     "data": {
      "text/plain": [
       "[-50.47959835079456,\n",
       " 46.43354058047136,\n",
       " 81.64088320763167,\n",
       " 28.534022936066282,\n",
       " -18.104523056515752,\n",
       " 82.29462752730312,\n",
       " -43.731485098807596,\n",
       " 7.133385218420444,\n",
       " -44.05426436455158,\n",
       " -44.613532533148295]"
      ]
     },
     "execution_count": 37,
     "metadata": {},
     "output_type": "execute_result"
    }
   ],
   "source": [
    "#how to generate multiple ramdon numbers, latitudes \n",
    "x = 1\n",
    "latitudes=[]\n",
    "while x < 11:\n",
    "    random_lat=random_number=random.randint(-90,89)+random.random()\n",
    "    latitudes.append(random_lat)\n",
    "    x+=1\n",
    "\n",
    "latitudes\n"
   ]
  },
  {
   "cell_type": "code",
   "execution_count": 28,
   "id": "5f85be12",
   "metadata": {},
   "outputs": [
    {
     "data": {
      "text/plain": [
       "63"
      ]
     },
     "execution_count": 28,
     "metadata": {},
     "output_type": "execute_result"
    }
   ],
   "source": [
    "random.randrange(-90,90,step=3)\n",
    "#remember all outputs will be divisible by 3, if no step is defined it will defult to 1"
   ]
  },
  {
   "cell_type": "code",
   "execution_count": 29,
   "id": "9f643e09",
   "metadata": {},
   "outputs": [
    {
     "data": {
      "text/plain": [
       "-9.661810664440893"
      ]
     },
     "execution_count": 29,
     "metadata": {},
     "output_type": "execute_result"
    }
   ],
   "source": [
    "random.uniform(-90,90)"
   ]
  },
  {
   "cell_type": "code",
   "execution_count": 35,
   "id": "2943b489",
   "metadata": {},
   "outputs": [
    {
     "name": "stdout",
     "output_type": "stream",
     "text": [
      "14.1 µs ± 657 ns per loop (mean ± std. dev. of 7 runs, 100000 loops each)\n"
     ]
    }
   ],
   "source": [
    "#remember np for numpy\n",
    "%timeit np.random.uniform(-90.000, 90.000, size=1500)"
   ]
  },
  {
   "cell_type": "code",
   "execution_count": 38,
   "id": "03f4ff13",
   "metadata": {},
   "outputs": [
    {
     "name": "stdout",
     "output_type": "stream",
     "text": [
      "1.4 ms ± 62.5 µs per loop (mean ± std. dev. of 7 runs, 1000 loops each)\n"
     ]
    }
   ],
   "source": [
    "#while loop with timeit \n",
    "def latitudes (size):\n",
    "    latitudes=[]\n",
    "    x = 0\n",
    "    while x < (size):\n",
    "        random_lat=random_number=random.randint(-90,89)+random.random()\n",
    "        latitudes.append(random_lat)\n",
    "        x+=1\n",
    "    return latitudes\n",
    "#call the function with 1500\n",
    "%timeit latitudes (1500)"
   ]
  },
  {
   "cell_type": "code",
   "execution_count": null,
   "id": "fad229e0",
   "metadata": {},
   "outputs": [],
   "source": []
  }
 ],
 "metadata": {
  "kernelspec": {
   "display_name": "Python 3",
   "language": "python",
   "name": "python3"
  },
  "language_info": {
   "codemirror_mode": {
    "name": "ipython",
    "version": 3
   },
   "file_extension": ".py",
   "mimetype": "text/x-python",
   "name": "python",
   "nbconvert_exporter": "python",
   "pygments_lexer": "ipython3",
   "version": "3.8.8"
  }
 },
 "nbformat": 4,
 "nbformat_minor": 5
}
