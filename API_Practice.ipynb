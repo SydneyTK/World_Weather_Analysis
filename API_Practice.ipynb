{
 "cells": [
  {
   "cell_type": "code",
   "execution_count": 1,
   "id": "72650b4a",
   "metadata": {},
   "outputs": [],
   "source": [
    "#use the citipy module to determine city based on latitude and longitude \n",
    "from citipy import citipy"
   ]
  },
  {
   "cell_type": "code",
   "execution_count": 2,
   "id": "7cfbcb37",
   "metadata": {},
   "outputs": [],
   "source": [
    "# 6.1.4 Create a practice set of random latitude and longitude combinations.\n",
    "x = [25.12903645, 25.92017388, 26.62509167, -59.98969384, 37.30571269]\n",
    "y = [-67.59741259, 11.09532135, 74.84233102, -76.89176677, -61.13376282]\n",
    "coordinates = zip(x, y)"
   ]
  },
  {
   "cell_type": "code",
   "execution_count": 3,
   "id": "ef7df781",
   "metadata": {},
   "outputs": [
    {
     "name": "stdout",
     "output_type": "stream",
     "text": [
      "cockburn town tc\n",
      "gat ly\n",
      "parvatsar in\n",
      "punta arenas cl\n",
      "saint george bm\n"
     ]
    }
   ],
   "source": [
    "# 6.1.5 Use the tuple() function to display the latitude and longitude combinations.\n",
    "for coordinate in coordinates:\n",
    "    print(citipy.nearest_city(coordinate[0], coordinate[1]).city_name,\n",
    "          citipy.nearest_city(coordinate[0], coordinate[1]).country_code)"
   ]
  },
  {
   "cell_type": "code",
   "execution_count": 4,
   "id": "78bea595",
   "metadata": {},
   "outputs": [],
   "source": [
    "# make an API call \n",
    "#import the requests library \n",
    "import requests \n",
    "\n",
    "#import the API key \n",
    "from config import weather_api_key"
   ]
  },
  {
   "cell_type": "code",
   "execution_count": 5,
   "id": "62a6aca7",
   "metadata": {},
   "outputs": [
    {
     "name": "stdout",
     "output_type": "stream",
     "text": [
      "http://api.openweathermap.org/data/2.5/weather?units=Imperial&APPID=cfe3856151850da13b3a9c6ee190d3ac\n"
     ]
    }
   ],
   "source": [
    "#6.2.3 starting URL for Weather Map API Call \n",
    "url=\"http://api.openweathermap.org/data/2.5/weather?units=Imperial&APPID=\" + weather_api_key\n",
    "print(url)"
   ]
  },
  {
   "cell_type": "code",
   "execution_count": 6,
   "id": "3efff50d",
   "metadata": {},
   "outputs": [
    {
     "name": "stdout",
     "output_type": "stream",
     "text": [
      "http://api.openweathermap.org/data/2.5/weather?units=Imperial&APPID=cfe3856151850da13b3a9c6ee190d3ac&q=Boston\n"
     ]
    }
   ],
   "source": [
    " #create an endpoint URL for a city \n",
    "city_url=url +\"&q=\" + \"Boston\"\n",
    "print(city_url)    "
   ]
  },
  {
   "cell_type": "code",
   "execution_count": 7,
   "id": "405097aa",
   "metadata": {},
   "outputs": [
    {
     "data": {
      "text/plain": [
       "200"
      ]
     },
     "execution_count": 7,
     "metadata": {},
     "output_type": "execute_result"
    }
   ],
   "source": [
    "#6.2.4 make a get request for the cigty weather \n",
    "city_weather=requests.get(city_url)\n",
    "city_weather.status_code"
   ]
  },
  {
   "cell_type": "code",
   "execution_count": 8,
   "id": "b4bb9fa9",
   "metadata": {},
   "outputs": [
    {
     "data": {
      "text/plain": [
       "'{\"coord\":{\"lon\":-71.0598,\"lat\":42.3584},\"weather\":[{\"id\":701,\"main\":\"Mist\",\"description\":\"mist\",\"icon\":\"50d\"}],\"base\":\"stations\",\"main\":{\"temp\":38.59,\"feels_like\":35.13,\"temp_min\":31.03,\"temp_max\":50.38,\"pressure\":1014,\"humidity\":89},\"visibility\":2816,\"wind\":{\"speed\":4.61,\"deg\":300},\"clouds\":{\"all\":90},\"dt\":1639230176,\"sys\":{\"type\":2,\"id\":2013408,\"country\":\"US\",\"sunrise\":1639224221,\"sunset\":1639257108},\"timezone\":-18000,\"id\":4930956,\"name\":\"Boston\",\"cod\":200}'"
      ]
     },
     "execution_count": 8,
     "metadata": {},
     "output_type": "execute_result"
    }
   ],
   "source": [
    "#create an endpoint URL for ciy \n",
    "city_url=url+\"&q=\"+\"Boston\"\n",
    "city_weather=requests.get(city_url)\n",
    "city_weather.text"
   ]
  },
  {
   "cell_type": "code",
   "execution_count": 17,
   "id": "a4a1ec78",
   "metadata": {},
   "outputs": [
    {
     "data": {
      "text/plain": [
       "{'coord': {'lon': -71.0598, 'lat': 42.3584},\n",
       " 'weather': [{'id': 804,\n",
       "   'main': 'Clouds',\n",
       "   'description': 'overcast clouds',\n",
       "   'icon': '04n'}],\n",
       " 'base': 'stations',\n",
       " 'main': {'temp': 32.07,\n",
       "  'feels_like': 32.07,\n",
       "  'temp_min': 29.16,\n",
       "  'temp_max': 34,\n",
       "  'pressure': 1025,\n",
       "  'humidity': 61},\n",
       " 'visibility': 10000,\n",
       " 'wind': {'speed': 1.99, 'deg': 33, 'gust': 8.01},\n",
       " 'clouds': {'all': 100},\n",
       " 'dt': 1639097701,\n",
       " 'sys': {'type': 2,\n",
       "  'id': 2013408,\n",
       "  'country': 'US',\n",
       "  'sunrise': 1639051320,\n",
       "  'sunset': 1639084303},\n",
       " 'timezone': -18000,\n",
       " 'id': 4930956,\n",
       " 'name': 'Boston',\n",
       " 'cod': 200}"
      ]
     },
     "execution_count": 17,
     "metadata": {},
     "output_type": "execute_result"
    }
   ],
   "source": [
    "#get the JSON text of the get request\n",
    "city_weather.json()"
   ]
  },
  {
   "cell_type": "code",
   "execution_count": 20,
   "id": "6b9b7bd1",
   "metadata": {},
   "outputs": [
    {
     "name": "stdout",
     "output_type": "stream",
     "text": [
      "City Weather Found\n"
     ]
    }
   ],
   "source": [
    "#create an endpoint URL for a city \n",
    "city_url=url+\"&q=\"+\"Boston\"\n",
    "city_weather=requests.get(city_url)\n",
    "if city_weather.status_code==200:\n",
    "    print(f\"City Weather Found\")\n",
    "else:\n",
    "    print(f\"City Weather Not Found\")"
   ]
  },
  {
   "cell_type": "code",
   "execution_count": 21,
   "id": "2e2f48dc",
   "metadata": {},
   "outputs": [
    {
     "name": "stdout",
     "output_type": "stream",
     "text": [
      "City weather not found.\n"
     ]
    }
   ],
   "source": [
    "# Create an endpoint URL for a city.\n",
    "city_url = url + \"&q=\" + \"Bston\"\n",
    "city_weather = requests.get(city_url)\n",
    "if city_weather.status_code == 200:\n",
    "    print(f\"City Weather found.\")\n",
    "else:\n",
    "    print(f\"City weather not found.\")"
   ]
  },
  {
   "cell_type": "code",
   "execution_count": 22,
   "id": "38eef9d1",
   "metadata": {},
   "outputs": [
    {
     "data": {
      "text/plain": [
       "{'coord': {'lon': -71.0598, 'lat': 42.3584},\n",
       " 'weather': [{'id': 804,\n",
       "   'main': 'Clouds',\n",
       "   'description': 'overcast clouds',\n",
       "   'icon': '04n'}],\n",
       " 'base': 'stations',\n",
       " 'main': {'temp': 31.98,\n",
       "  'feels_like': 29.3,\n",
       "  'temp_min': 28.94,\n",
       "  'temp_max': 34,\n",
       "  'pressure': 1025,\n",
       "  'humidity': 61},\n",
       " 'visibility': 10000,\n",
       " 'wind': {'speed': 3, 'deg': 21, 'gust': 8.99},\n",
       " 'clouds': {'all': 90},\n",
       " 'dt': 1639098989,\n",
       " 'sys': {'type': 2,\n",
       "  'id': 2013408,\n",
       "  'country': 'US',\n",
       "  'sunrise': 1639051320,\n",
       "  'sunset': 1639084303},\n",
       " 'timezone': -18000,\n",
       " 'id': 4930956,\n",
       " 'name': 'Boston',\n",
       " 'cod': 200}"
      ]
     },
     "execution_count": 22,
     "metadata": {},
     "output_type": "execute_result"
    }
   ],
   "source": [
    "#6.2.5 parse a response from an API\n",
    "#create an endpoint URL for a city \n",
    "city_url=url+\"&q=\"+\"Boston\"\n",
    "city_weather=requests.get(city_url)\n",
    "city_weather.json()"
   ]
  },
  {
   "cell_type": "code",
   "execution_count": 23,
   "id": "2100d2c1",
   "metadata": {},
   "outputs": [
    {
     "data": {
      "text/plain": [
       "{'type': 2,\n",
       " 'id': 2013408,\n",
       " 'country': 'US',\n",
       " 'sunrise': 1639051320,\n",
       " 'sunset': 1639084303}"
      ]
     },
     "execution_count": 23,
     "metadata": {},
     "output_type": "execute_result"
    }
   ],
   "source": [
    "#get the JSON data \n",
    "boston_data=city_weather.json()\n",
    "boston_data['sys']"
   ]
  },
  {
   "cell_type": "code",
   "execution_count": 24,
   "id": "dfad520c",
   "metadata": {},
   "outputs": [
    {
     "data": {
      "text/plain": [
       "'US'"
      ]
     },
     "execution_count": 24,
     "metadata": {},
     "output_type": "execute_result"
    }
   ],
   "source": [
    "boston_data[\"sys\"][\"country\"]"
   ]
  },
  {
   "cell_type": "code",
   "execution_count": 25,
   "id": "7095cc03",
   "metadata": {},
   "outputs": [
    {
     "data": {
      "text/plain": [
       "1639098989"
      ]
     },
     "execution_count": 25,
     "metadata": {},
     "output_type": "execute_result"
    }
   ],
   "source": [
    "#get the date\n",
    "boston_data[\"dt\"]"
   ]
  },
  {
   "cell_type": "code",
   "execution_count": 26,
   "id": "e2faa0b5",
   "metadata": {},
   "outputs": [
    {
     "data": {
      "text/plain": [
       "42.3584"
      ]
     },
     "execution_count": 26,
     "metadata": {},
     "output_type": "execute_result"
    }
   ],
   "source": [
    "#get the latitude \n",
    "boston_data[\"coord\"][\"lat\"]"
   ]
  },
  {
   "cell_type": "code",
   "execution_count": 27,
   "id": "08b95d74",
   "metadata": {},
   "outputs": [
    {
     "name": "stdout",
     "output_type": "stream",
     "text": [
      "42.3584 -71.0598 34 61 90 3\n"
     ]
    }
   ],
   "source": [
    "lat = boston_data[\"coord\"][\"lat\"]\n",
    "lng = boston_data[\"coord\"][\"lon\"]\n",
    "max_temp = boston_data[\"main\"][\"temp_max\"]\n",
    "humidity = boston_data[\"main\"][\"humidity\"]\n",
    "clouds = boston_data[\"clouds\"][\"all\"]\n",
    "wind = boston_data[\"wind\"][\"speed\"]\n",
    "print(lat, lng, max_temp, humidity, clouds, wind)"
   ]
  },
  {
   "cell_type": "code",
   "execution_count": 29,
   "id": "4c8a682d",
   "metadata": {},
   "outputs": [
    {
     "data": {
      "text/plain": [
       "'2021-12-10 01:16:29'"
      ]
     },
     "execution_count": 29,
     "metadata": {},
     "output_type": "execute_result"
    }
   ],
   "source": [
    "#import the datetime modue from the datetime library\n",
    "from datetime import datetime \n",
    "#get the date from the JSON file \n",
    "date=boston_data[\"dt\"]\n",
    "#convert the UTC date to oa date format with year, month, day, hours, minutes\n",
    "datetime.utcfromtimestamp(date).strftime('%Y-%m-%d %H:%M:%S')"
   ]
  },
  {
   "cell_type": "code",
   "execution_count": null,
   "id": "6b3199e4",
   "metadata": {},
   "outputs": [],
   "source": []
  },
  {
   "cell_type": "code",
   "execution_count": null,
   "id": "b8022740",
   "metadata": {},
   "outputs": [],
   "source": []
  },
  {
   "cell_type": "code",
   "execution_count": null,
   "id": "4996393d",
   "metadata": {},
   "outputs": [],
   "source": []
  },
  {
   "cell_type": "code",
   "execution_count": null,
   "id": "7f418233",
   "metadata": {},
   "outputs": [],
   "source": []
  },
  {
   "cell_type": "code",
   "execution_count": null,
   "id": "1bd5d002",
   "metadata": {},
   "outputs": [],
   "source": []
  },
  {
   "cell_type": "code",
   "execution_count": null,
   "id": "a7d4e5ca",
   "metadata": {},
   "outputs": [],
   "source": []
  },
  {
   "cell_type": "code",
   "execution_count": null,
   "id": "905c39f2",
   "metadata": {},
   "outputs": [],
   "source": []
  },
  {
   "cell_type": "code",
   "execution_count": 28,
   "id": "616a36db",
   "metadata": {},
   "outputs": [],
   "source": [
    " Use the tuple() function to display the latitude and longitude combinations.\n",
    "for coordinate in coordinates:\n",
    "    print(coordinate[0], coordinate[1])"
   ]
  }
 ],
 "metadata": {
  "kernelspec": {
   "display_name": "PythonData",
   "language": "python",
   "name": "pythondata"
  },
  "language_info": {
   "codemirror_mode": {
    "name": "ipython",
    "version": 3
   },
   "file_extension": ".py",
   "mimetype": "text/x-python",
   "name": "python",
   "nbconvert_exporter": "python",
   "pygments_lexer": "ipython3",
   "version": "3.7.11"
  }
 },
 "nbformat": 4,
 "nbformat_minor": 5
}
